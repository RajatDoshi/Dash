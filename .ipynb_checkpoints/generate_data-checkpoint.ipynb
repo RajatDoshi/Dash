{
 "cells": [
  {
   "cell_type": "code",
   "execution_count": 1,
   "metadata": {},
   "outputs": [],
   "source": [
    "import pandas as pd\n",
    "import numpy as np"
   ]
  },
  {
   "cell_type": "code",
   "execution_count": 2,
   "metadata": {},
   "outputs": [],
   "source": [
    "addresses = pd.read_csv('data/raw/addresses.txt', names=['street', 'city', 'state', 'zip'], dtype=str)\n",
    "first_names = pd.read_csv('data/raw/first_names.txt', header=None)\n",
    "last_names = pd.read_csv('data/raw/last_names.txt', header=None)\n",
    "products = pd.read_csv('data/raw/products.txt', delimiter='\\n', header=None)"
   ]
  },
  {
   "cell_type": "markdown",
   "metadata": {},
   "source": [
    "## Addresses"
   ]
  },
  {
   "cell_type": "code",
   "execution_count": 10,
   "metadata": {},
   "outputs": [],
   "source": [
    "states = addresses['state']\n",
    "preprocessed_states = []\n",
    "for name in states:\n",
    "    s = name[::-1][1:3][::-1]\n",
    "    preprocessed_states.append(s)\n",
    "addresses.loc[:, 'state'] = preprocessed_states"
   ]
  },
  {
   "cell_type": "code",
   "execution_count": 12,
   "metadata": {},
   "outputs": [],
   "source": [
    "addresses['country'] = 'US'"
   ]
  },
  {
   "cell_type": "code",
   "execution_count": 15,
   "metadata": {},
   "outputs": [
    {
     "data": {
      "text/html": [
       "<div>\n",
       "<style scoped>\n",
       "    .dataframe tbody tr th:only-of-type {\n",
       "        vertical-align: middle;\n",
       "    }\n",
       "\n",
       "    .dataframe tbody tr th {\n",
       "        vertical-align: top;\n",
       "    }\n",
       "\n",
       "    .dataframe thead th {\n",
       "        text-align: right;\n",
       "    }\n",
       "</style>\n",
       "<table border=\"1\" class=\"dataframe\">\n",
       "  <thead>\n",
       "    <tr style=\"text-align: right;\">\n",
       "      <th></th>\n",
       "      <th>street</th>\n",
       "      <th>city</th>\n",
       "      <th>state</th>\n",
       "      <th>zip</th>\n",
       "      <th>country</th>\n",
       "    </tr>\n",
       "  </thead>\n",
       "  <tbody>\n",
       "    <tr>\n",
       "      <th>0</th>\n",
       "      <td>1705 W 7th Street Ter</td>\n",
       "      <td>Knob Noster</td>\n",
       "      <td>MO</td>\n",
       "      <td>65336</td>\n",
       "      <td>US</td>\n",
       "    </tr>\n",
       "    <tr>\n",
       "      <th>1</th>\n",
       "      <td>45030 Revere St</td>\n",
       "      <td>Callahan</td>\n",
       "      <td>FL</td>\n",
       "      <td>32011</td>\n",
       "      <td>US</td>\n",
       "    </tr>\n",
       "    <tr>\n",
       "      <th>2</th>\n",
       "      <td>1127 N 2nd Ave #1</td>\n",
       "      <td>Iron River</td>\n",
       "      <td>MI</td>\n",
       "      <td>49935</td>\n",
       "      <td>US</td>\n",
       "    </tr>\n",
       "    <tr>\n",
       "      <th>3</th>\n",
       "      <td>32282 Francise St</td>\n",
       "      <td>White Castle</td>\n",
       "      <td>LA</td>\n",
       "      <td>70788</td>\n",
       "      <td>US</td>\n",
       "    </tr>\n",
       "    <tr>\n",
       "      <th>4</th>\n",
       "      <td>1460 Back Valley Rd</td>\n",
       "      <td>Speedwell</td>\n",
       "      <td>TN</td>\n",
       "      <td>37870</td>\n",
       "      <td>US</td>\n",
       "    </tr>\n",
       "    <tr>\n",
       "      <th>5</th>\n",
       "      <td>4 Stuyvesant Ave</td>\n",
       "      <td>Rye</td>\n",
       "      <td>NY</td>\n",
       "      <td>10580</td>\n",
       "      <td>US</td>\n",
       "    </tr>\n",
       "    <tr>\n",
       "      <th>6</th>\n",
       "      <td>10822 County Q Rd</td>\n",
       "      <td>Downing</td>\n",
       "      <td>WI</td>\n",
       "      <td>54734</td>\n",
       "      <td>US</td>\n",
       "    </tr>\n",
       "    <tr>\n",
       "      <th>7</th>\n",
       "      <td>58911 E Main Pr NE</td>\n",
       "      <td>Benton City</td>\n",
       "      <td>WA</td>\n",
       "      <td>99320</td>\n",
       "      <td>US</td>\n",
       "    </tr>\n",
       "    <tr>\n",
       "      <th>8</th>\n",
       "      <td>1606 Redwood Dr</td>\n",
       "      <td>Atlantic</td>\n",
       "      <td>IA</td>\n",
       "      <td>50022</td>\n",
       "      <td>US</td>\n",
       "    </tr>\n",
       "    <tr>\n",
       "      <th>9</th>\n",
       "      <td>603 14th St</td>\n",
       "      <td>Huntingdon</td>\n",
       "      <td>PA</td>\n",
       "      <td>16652</td>\n",
       "      <td>US</td>\n",
       "    </tr>\n",
       "  </tbody>\n",
       "</table>\n",
       "</div>"
      ],
      "text/plain": [
       "                  street           city state     zip country\n",
       "0  1705 W 7th Street Ter    Knob Noster    MO   65336      US\n",
       "1        45030 Revere St       Callahan    FL   32011      US\n",
       "2      1127 N 2nd Ave #1     Iron River    MI   49935      US\n",
       "3      32282 Francise St   White Castle    LA   70788      US\n",
       "4    1460 Back Valley Rd      Speedwell    TN   37870      US\n",
       "5       4 Stuyvesant Ave            Rye    NY   10580      US\n",
       "6      10822 County Q Rd        Downing    WI   54734      US\n",
       "7     58911 E Main Pr NE    Benton City    WA   99320      US\n",
       "8        1606 Redwood Dr       Atlantic    IA   50022      US\n",
       "9            603 14th St     Huntingdon    PA   16652      US"
      ]
     },
     "execution_count": 15,
     "metadata": {},
     "output_type": "execute_result"
    }
   ],
   "source": [
    "addresses.head(10)"
   ]
  },
  {
   "cell_type": "markdown",
   "metadata": {},
   "source": [
    "## Names"
   ]
  },
  {
   "cell_type": "code",
   "execution_count": 25,
   "metadata": {},
   "outputs": [],
   "source": [
    "first_arr = first_names[0].tolist()\n",
    "last_arr = last_names[0].tolist()"
   ]
  },
  {
   "cell_type": "code",
   "execution_count": 43,
   "metadata": {},
   "outputs": [],
   "source": [
    "n_users = len(addresses.index)\n",
    "first = np.random.choice(first_arr, n_users, replace=False)\n",
    "# last = np.random.choice(last_arr, n_users, replace=False)\n",
    "user_names = first # list(zip(first, last))\n",
    "\n",
    "user_types = []\n",
    "for i in range(n_users):\n",
    "    if np.random.rand() < 1.0:\n",
    "        user_types.append('Seller')\n",
    "    else:\n",
    "        user_types.append('Buyer')"
   ]
  },
  {
   "cell_type": "code",
   "execution_count": 44,
   "metadata": {},
   "outputs": [],
   "source": [
    "users_dict = {\n",
    "    'name' : user_names,\n",
    "    'street' : addresses['street'],\n",
    "    'city' : addresses['city'],\n",
    "    'state' : addresses['state'],\n",
    "    'zip' : addresses['zip'],\n",
    "    'country' : addresses['country'],\n",
    "    'user_type' : user_types\n",
    "}"
   ]
  },
  {
   "cell_type": "code",
   "execution_count": 45,
   "metadata": {},
   "outputs": [],
   "source": [
    "pd.DataFrame(users_dict).to_csv('data/users.csv')"
   ]
  },
  {
   "cell_type": "markdown",
   "metadata": {},
   "source": [
    "## Products"
   ]
  },
  {
   "cell_type": "code",
   "execution_count": 34,
   "metadata": {},
   "outputs": [
    {
     "data": {
      "text/html": [
       "<div>\n",
       "<style scoped>\n",
       "    .dataframe tbody tr th:only-of-type {\n",
       "        vertical-align: middle;\n",
       "    }\n",
       "\n",
       "    .dataframe tbody tr th {\n",
       "        vertical-align: top;\n",
       "    }\n",
       "\n",
       "    .dataframe thead th {\n",
       "        text-align: right;\n",
       "    }\n",
       "</style>\n",
       "<table border=\"1\" class=\"dataframe\">\n",
       "  <thead>\n",
       "    <tr style=\"text-align: right;\">\n",
       "      <th></th>\n",
       "      <th>0</th>\n",
       "    </tr>\n",
       "  </thead>\n",
       "  <tbody>\n",
       "    <tr>\n",
       "      <th>0</th>\n",
       "      <td>Chair</td>\n",
       "    </tr>\n",
       "    <tr>\n",
       "      <th>1</th>\n",
       "      <td>Lift chair</td>\n",
       "    </tr>\n",
       "    <tr>\n",
       "      <th>2</th>\n",
       "      <td>Bean bag</td>\n",
       "    </tr>\n",
       "    <tr>\n",
       "      <th>3</th>\n",
       "      <td>Chaise longue</td>\n",
       "    </tr>\n",
       "    <tr>\n",
       "      <th>4</th>\n",
       "      <td>Fauteuil</td>\n",
       "    </tr>\n",
       "    <tr>\n",
       "      <th>5</th>\n",
       "      <td>Ottoman</td>\n",
       "    </tr>\n",
       "    <tr>\n",
       "      <th>6</th>\n",
       "      <td>Recliner</td>\n",
       "    </tr>\n",
       "    <tr>\n",
       "      <th>7</th>\n",
       "      <td>Stool</td>\n",
       "    </tr>\n",
       "    <tr>\n",
       "      <th>8</th>\n",
       "      <td>Bar Stool</td>\n",
       "    </tr>\n",
       "    <tr>\n",
       "      <th>9</th>\n",
       "      <td>Footstool or ottoman</td>\n",
       "    </tr>\n",
       "  </tbody>\n",
       "</table>\n",
       "</div>"
      ],
      "text/plain": [
       "                      0\n",
       "0                 Chair\n",
       "1            Lift chair\n",
       "2              Bean bag\n",
       "3         Chaise longue\n",
       "4              Fauteuil\n",
       "5               Ottoman\n",
       "6              Recliner\n",
       "7                 Stool\n",
       "8             Bar Stool\n",
       "9  Footstool or ottoman"
      ]
     },
     "execution_count": 34,
     "metadata": {},
     "output_type": "execute_result"
    }
   ],
   "source": [
    "products.head(10)"
   ]
  },
  {
   "cell_type": "code",
   "execution_count": 40,
   "metadata": {},
   "outputs": [],
   "source": [
    "def random_dimension(n, min_val=10, max_val=100):\n",
    "    return np.random.randint(max_val - min_val, size=(n,)).astype('float32') + min_val"
   ]
  },
  {
   "cell_type": "code",
   "execution_count": 52,
   "metadata": {},
   "outputs": [],
   "source": [
    "n_products = 20\n",
    "products_list = products[0].tolist()[:n_products]\n",
    "\n",
    "products_dict = {\n",
    "    'name' : products_list,\n",
    "    'category' : ['furniture']*n_products,\n",
    "    'width' : random_dimension(n_products),\n",
    "    'height' : random_dimension(n_products),\n",
    "    'length' : random_dimension(n_products),\n",
    "    'weight' : random_dimension(n_products, min_val=10, max_val=20)\n",
    "}"
   ]
  },
  {
   "cell_type": "code",
   "execution_count": 53,
   "metadata": {},
   "outputs": [],
   "source": [
    "pd.DataFrame(products_dict).to_csv('data/products.csv')"
   ]
  },
  {
   "cell_type": "markdown",
   "metadata": {},
   "source": [
    "## Items"
   ]
  },
  {
   "cell_type": "code",
   "execution_count": 60,
   "metadata": {},
   "outputs": [],
   "source": [
    "items_list = []\n",
    "base_price = 10\n",
    "\n",
    "for i, (name, user_type) in enumerate(zip(user_names, user_types)):\n",
    "    if user_type == 'Seller':\n",
    "        n_products_per_seller = np.random.randint(3) + 2\n",
    "        seller_products = np.random.choice(products_list, n_products_per_seller, replace=False)\n",
    "        \n",
    "        for prod in seller_products:\n",
    "            price = np.round(base_price + np.random.rand() * 50, decimals=2)\n",
    "            item = (prod, name, price)\n",
    "            items_list.append(item)"
   ]
  },
  {
   "cell_type": "code",
   "execution_count": 63,
   "metadata": {},
   "outputs": [],
   "source": [
    "items = list(zip(*items_list))"
   ]
  },
  {
   "cell_type": "code",
   "execution_count": 66,
   "metadata": {},
   "outputs": [],
   "source": [
    "items_dict = {\n",
    "    'product' : items[0],\n",
    "    'seller' : items[1],\n",
    "    'price' : items[2]\n",
    "}"
   ]
  },
  {
   "cell_type": "code",
   "execution_count": 67,
   "metadata": {},
   "outputs": [],
   "source": [
    "pd.DataFrame(items_dict).to_csv('data/items.csv')"
   ]
  },
  {
   "cell_type": "code",
   "execution_count": null,
   "metadata": {},
   "outputs": [],
   "source": []
  }
 ],
 "metadata": {
  "kernelspec": {
   "display_name": "Python 3",
   "language": "python",
   "name": "python3"
  },
  "language_info": {
   "codemirror_mode": {
    "name": "ipython",
    "version": 3
   },
   "file_extension": ".py",
   "mimetype": "text/x-python",
   "name": "python",
   "nbconvert_exporter": "python",
   "pygments_lexer": "ipython3",
   "version": "3.7.3"
  }
 },
 "nbformat": 4,
 "nbformat_minor": 2
}
